{
 "cells": [
  {
   "cell_type": "markdown",
   "id": "e0a567ee",
   "metadata": {},
   "source": [
    "https://towardsdatascience.com/web-scraping-craigslist-a-complete-tutorial-c41cea4f4981"
   ]
  },
  {
   "cell_type": "code",
   "execution_count": 205,
   "id": "1d8c3420",
   "metadata": {},
   "outputs": [],
   "source": [
    "from requests import get\n",
    "from bs4 import BeautifulSoup\n",
    "\n",
    "from selenium import webdriver\n",
    "from time import sleep\n",
    "import re\n",
    "from random import randint #avoid throttling by not sending too many requests one after the other\n",
    "from warnings import warn\n",
    "from time import time\n",
    "from IPython.core.display import clear_output\n",
    "import numpy as np\n",
    "import pandas as pd"
   ]
  },
  {
   "cell_type": "code",
   "execution_count": 14,
   "id": "4578e787",
   "metadata": {},
   "outputs": [
    {
     "name": "stdout",
     "output_type": "stream",
     "text": [
      "<class 'bs4.element.ResultSet'>\n",
      "120\n"
     ]
    }
   ],
   "source": [
    "# import get to call a get request on the site\n",
    "\n",
    "region = \"raleigh\"\n",
    "pageurl = f'https://{region}.craigslist.org/search/apa?hasPic=1&availabilityMode=0'\n",
    "# get the first page of the east bay housing prices\n",
    "# get rid of those lame-o's that post a housing option without a pic using their filter\n",
    "response = get(pageurl)\n",
    "\n",
    "html_soup = BeautifulSoup(response.text, 'html.parser')\n",
    "\n",
    "# get the macro-container for the housing posts\n",
    "posts = html_soup.find_all('li', class_='result-row')\n",
    "print(type(posts))  # to double check that I got a ResultSet\n",
    "print(len(posts))  # to double check I got 120 (elements/page)\n"
   ]
  },
  {
   "cell_type": "code",
   "execution_count": 15,
   "id": "c35343ac",
   "metadata": {},
   "outputs": [],
   "source": [
    "first_post = posts[0]"
   ]
  },
  {
   "cell_type": "code",
   "execution_count": 16,
   "id": "d7990768",
   "metadata": {},
   "outputs": [
    {
     "data": {
      "text/plain": [
       "'$1,319'"
      ]
     },
     "execution_count": 16,
     "metadata": {},
     "output_type": "execute_result"
    }
   ],
   "source": [
    "first_post.a.text.strip()"
   ]
  },
  {
   "cell_type": "code",
   "execution_count": 17,
   "id": "42ad451e",
   "metadata": {},
   "outputs": [
    {
     "data": {
      "text/plain": [
       "'2022-02-12 20:21'"
      ]
     },
     "execution_count": 17,
     "metadata": {},
     "output_type": "execute_result"
    }
   ],
   "source": [
    "first_post.find(\"time\", class_=\"result-date\")['datetime']"
   ]
  },
  {
   "cell_type": "code",
   "execution_count": 18,
   "id": "073a9d9f",
   "metadata": {},
   "outputs": [
    {
     "data": {
      "text/plain": [
       "'Spacious Floorplans, Close to Restaurants, BBQ/Picnic Area'"
      ]
     },
     "execution_count": 18,
     "metadata": {},
     "output_type": "execute_result"
    }
   ],
   "source": [
    "first_post.find('a', class_='result-title hdrlnk').text"
   ]
  },
  {
   "cell_type": "code",
   "execution_count": 19,
   "id": "f9e8438e",
   "metadata": {},
   "outputs": [
    {
     "data": {
      "text/plain": [
       "'https://raleigh.craigslist.org/apa/d/raleigh-spacious-floorplans-close-to/7445351524.html'"
      ]
     },
     "execution_count": 19,
     "metadata": {},
     "output_type": "execute_result"
    }
   ],
   "source": [
    "first_post.find('a', class_='result-title hdrlnk')['href']"
   ]
  },
  {
   "cell_type": "code",
   "execution_count": 199,
   "id": "5133145a",
   "metadata": {},
   "outputs": [],
   "source": [
    "post_hood = re.sub(\" \\(|  \\)\", \"\", post.find('span', class_= 'result-hood').text)\n"
   ]
  },
  {
   "cell_type": "code",
   "execution_count": 187,
   "id": "6a0fdc5b",
   "metadata": {},
   "outputs": [
    {
     "data": {
      "text/plain": [
       "'7445351524'"
      ]
     },
     "execution_count": 187,
     "metadata": {},
     "output_type": "execute_result"
    }
   ],
   "source": [
    "data_id = first_post.find('a', class_='result-title hdrlnk')['data-id']\n",
    "data_id"
   ]
  },
  {
   "cell_type": "code",
   "execution_count": 170,
   "id": "772dcc4d",
   "metadata": {},
   "outputs": [
    {
     "data": {
      "text/plain": [
       "'\\n 1br -\\n 833ft2 -\\n '"
      ]
     },
     "execution_count": 170,
     "metadata": {},
     "output_type": "execute_result"
    }
   ],
   "source": [
    "content_raw  = first_post.find_all(\"span\", class_=\"housing\")[0].text\n",
    "\n",
    "content_sub_space = re.sub(' +', ' ',content_raw)\n",
    "content_sub_space"
   ]
  },
  {
   "cell_type": "code",
   "execution_count": 204,
   "id": "691ae00d",
   "metadata": {},
   "outputs": [],
   "source": [
    "def br_ft2_from_housing(post):\n",
    "    from numpy import nan\n",
    "\n",
    "    ft2 = nan\n",
    "    br = nan\n",
    "    \n",
    "    content_raw  = post.find_all(\"span\", class_=\"housing\")[0].text\n",
    "    content_sub_space = re.sub(' +', ' ',content_raw)\n",
    "    pieces = re.split(' -|; |, |\\*|\\n ',content_sub_space)\n",
    "    for piece in pieces:\n",
    "        if len(piece)>0:\n",
    "            ft2_list = re.split('ft2', piece)\n",
    "            if len(ft2_list)>1: #  re.strip is completed for splitting the unit\n",
    "                ft2 = int(ft2_list[0])\n",
    "            br_list = re.split('br',piece)\n",
    "            if len(br_list)>1: #  re.strip is completed for splitting the unit\n",
    "                br = int(br_list[0])\n",
    "\n",
    "    return br, ft2\n"
   ]
  },
  {
   "cell_type": "code",
   "execution_count": 167,
   "id": "a63a1ce4",
   "metadata": {},
   "outputs": [
    {
     "data": {
      "text/plain": [
       "['833br']"
      ]
     },
     "execution_count": 167,
     "metadata": {},
     "output_type": "execute_result"
    }
   ],
   "source": [
    "re.split(\"ft2\",\"833br\")\n",
    "if re\n",
    "#float([0])"
   ]
  },
  {
   "cell_type": "code",
   "execution_count": 209,
   "id": "c6f4c9f5",
   "metadata": {},
   "outputs": [],
   "source": [
    "from numpy import nan\n",
    "\n",
    "def br_ft2_from_housing(post):\n",
    "    \n",
    "\n",
    "    ft2 = nan\n",
    "    br = nan\n",
    "    if post.find('span', class_ = 'housing') is not None:  # else return nan directly\n",
    "        content_raw  = post.find_all(\"span\", class_=\"housing\")[0].text\n",
    "        content_sub_space = re.sub(' +', ' ',content_raw)\n",
    "        pieces = re.split(' -|; |, |\\*|\\n ',content_sub_space)\n",
    "        for piece in pieces:\n",
    "            if len(piece)>0:\n",
    "                ft2_list = re.split('ft2', piece)\n",
    "                if len(ft2_list)>1: #  re.strip is completed for splitting the unit\n",
    "                    ft2 = int(ft2_list[0])\n",
    "                br_list = re.split('br',piece)\n",
    "                if len(br_list)>1: #  re.strip is completed for splitting the unit\n",
    "                    br = int(br_list[0])\n",
    "\n",
    "    return br, ft2, content_sub_space\n",
    "\n",
    "#find the total number of posts to find the limit of the pagination\n",
    "results_num = html_soup.find('div', class_= 'search-legend')\n",
    "results_total = int(results_num.find('span', class_='totalcount').text) #pulled the total count of posts as the upper bound of the pages array\n",
    "\n",
    "#each page has 119 posts so each new page is defined as follows: s=120, s=240, s=360, and so on. So we need to step in size 120 in the np.arange function\n",
    "pages = np.arange(0, results_total+1, 120)\n",
    "\n",
    "iterations = 0\n",
    "\n",
    "post_timing = [] #\n",
    "post_title_texts = []  #\n",
    "post_links = []  #\n",
    "post_prices = []  #\n",
    "\n",
    "post_hoods = []  #\n",
    "bedroom_counts = []  \n",
    "sqfts = []\n",
    "br_ft2_content = []\n",
    "\n",
    "#for page in pages:\n",
    "page=pages[0]\n",
    "#get request\n",
    "response = get(f\"https://{region}.craigslist.org/search/apt?\" \n",
    "               + f\"s={page}\" #the parameter for defining the page number \n",
    "               + \"&hasPic=1\"\n",
    "               + \"&availabilityMode=0\")\n",
    "#throw warning for status codes that are not 200\n",
    "if response.status_code != 200:\n",
    "    warn('Request: {}; Status code: {}'.format(requests, response.status_code))\n",
    "\n",
    "posts = html_soup.find_all('li', class_='result-row')\n",
    "for post in posts:\n",
    "    post_prices.append(float(post.a.text.strip().replace(\"$\", \"\").replace(\",\",\"\")))\n",
    "    post_timing.append(post.find(\"time\", class_=\"result-date\")['datetime'])\n",
    "    post_title_texts.append(post.find('a', class_='result-title hdrlnk').text)\n",
    "    post_links.append(post.find('a', class_='result-title hdrlnk')['href'])\n",
    "    post_hoods.append(re.sub(\" \\(|  \\)\", \"\", post.find('span', class_= 'result-hood').text))\n",
    "    \n",
    "    br_temp, ft2_temp, content_str = br_ft2_from_housing(post)\n",
    "    bedroom_counts.append(br_temp)\n",
    "    sqfts.append(ft2_temp)\n",
    "    br_ft2_content.append(content_str)\n",
    "\n",
    "sleep(randint(1,10))"
   ]
  },
  {
   "cell_type": "code",
   "execution_count": 211,
   "id": "62368446",
   "metadata": {},
   "outputs": [
    {
     "data": {
      "text/html": [
       "<div>\n",
       "<style scoped>\n",
       "    .dataframe tbody tr th:only-of-type {\n",
       "        vertical-align: middle;\n",
       "    }\n",
       "\n",
       "    .dataframe tbody tr th {\n",
       "        vertical-align: top;\n",
       "    }\n",
       "\n",
       "    .dataframe thead th {\n",
       "        text-align: right;\n",
       "    }\n",
       "</style>\n",
       "<table border=\"1\" class=\"dataframe\">\n",
       "  <thead>\n",
       "    <tr style=\"text-align: right;\">\n",
       "      <th></th>\n",
       "      <th>price_usd</th>\n",
       "      <th>datetime</th>\n",
       "      <th>title</th>\n",
       "      <th>url</th>\n",
       "      <th>neighborhood</th>\n",
       "      <th>num_bedrooms</th>\n",
       "      <th>sqfts</th>\n",
       "      <th>br_ft2_content</th>\n",
       "    </tr>\n",
       "  </thead>\n",
       "  <tbody>\n",
       "    <tr>\n",
       "      <th>0</th>\n",
       "      <td>1319.0</td>\n",
       "      <td>2022-02-12 20:21</td>\n",
       "      <td>Spacious Floorplans, Close to Restaurants, BBQ...</td>\n",
       "      <td>https://raleigh.craigslist.org/apa/d/raleigh-s...</td>\n",
       "      <td>1910 Capital Creek Drive , Wake Forest, NC</td>\n",
       "      <td>1</td>\n",
       "      <td>833.0</td>\n",
       "      <td>\\n 1br -\\n 833ft2 -\\n</td>\n",
       "    </tr>\n",
       "    <tr>\n",
       "      <th>1</th>\n",
       "      <td>1410.0</td>\n",
       "      <td>2022-02-12 19:56</td>\n",
       "      <td>Pantry, Business Center, Custom Cabinetry</td>\n",
       "      <td>https://raleigh.craigslist.org/apa/d/raleigh-p...</td>\n",
       "      <td>1910 Capital Creek Drive , Wake Forest, NC</td>\n",
       "      <td>1</td>\n",
       "      <td>859.0</td>\n",
       "      <td>\\n 1br -\\n 859ft2 -\\n</td>\n",
       "    </tr>\n",
       "    <tr>\n",
       "      <th>2</th>\n",
       "      <td>2008.0</td>\n",
       "      <td>2022-02-12 19:34</td>\n",
       "      <td>Custom Cabinetry, Walk-In Closet, Dual Vanity ...</td>\n",
       "      <td>https://raleigh.craigslist.org/apa/d/raleigh-c...</td>\n",
       "      <td>1910 Capital Creek Drive , Wake Forest, NC</td>\n",
       "      <td>3</td>\n",
       "      <td>1486.0</td>\n",
       "      <td>\\n 3br -\\n 1486ft2 -\\n</td>\n",
       "    </tr>\n",
       "    <tr>\n",
       "      <th>3</th>\n",
       "      <td>1300.0</td>\n",
       "      <td>2022-02-12 19:31</td>\n",
       "      <td>Courtesy Patrol Officer, Black Appliance Packa...</td>\n",
       "      <td>https://raleigh.craigslist.org/apa/d/chapel-hi...</td>\n",
       "      <td>2701 Homestead Rd, Chapel Hill, NC</td>\n",
       "      <td>2</td>\n",
       "      <td>932.0</td>\n",
       "      <td>\\n 2br -\\n 932ft2 -\\n</td>\n",
       "    </tr>\n",
       "    <tr>\n",
       "      <th>4</th>\n",
       "      <td>1599.0</td>\n",
       "      <td>2022-02-12 19:23</td>\n",
       "      <td>Pet Friendly. See Pet Rules., Online Rental Pa...</td>\n",
       "      <td>https://raleigh.craigslist.org/apa/d/wake-fore...</td>\n",
       "      <td>1910 Capital Creek Dr, Wake Forest, NC</td>\n",
       "      <td>1</td>\n",
       "      <td>970.0</td>\n",
       "      <td>\\n 1br -\\n 970ft2 -\\n</td>\n",
       "    </tr>\n",
       "    <tr>\n",
       "      <th>5</th>\n",
       "      <td>1662.0</td>\n",
       "      <td>2022-02-12 18:49</td>\n",
       "      <td>Microwave, Disability Access, On-Site Management</td>\n",
       "      <td>https://raleigh.craigslist.org/apa/d/raleigh-m...</td>\n",
       "      <td>1910 Capital Creek Drive , Wake Forest, NC</td>\n",
       "      <td>2</td>\n",
       "      <td>1195.0</td>\n",
       "      <td>\\n 2br -\\n 1195ft2 -\\n</td>\n",
       "    </tr>\n",
       "    <tr>\n",
       "      <th>6</th>\n",
       "      <td>3200.0</td>\n",
       "      <td>2022-02-12 18:37</td>\n",
       "      <td>Furnished Summer Rental walk to North Hills</td>\n",
       "      <td>https://raleigh.craigslist.org/apa/d/raleigh-f...</td>\n",
       "      <td>North Hills</td>\n",
       "      <td>3</td>\n",
       "      <td>2000.0</td>\n",
       "      <td>\\n 3br -\\n 2000ft2 -\\n</td>\n",
       "    </tr>\n",
       "    <tr>\n",
       "      <th>7</th>\n",
       "      <td>1360.0</td>\n",
       "      <td>2022-02-12 18:27</td>\n",
       "      <td>Online Service Requests, Package Receiving, Cl...</td>\n",
       "      <td>https://raleigh.craigslist.org/apa/d/raleigh-o...</td>\n",
       "      <td></td>\n",
       "      <td>2</td>\n",
       "      <td>1076.0</td>\n",
       "      <td>\\n 2br -\\n 1076ft2 -\\n</td>\n",
       "    </tr>\n",
       "    <tr>\n",
       "      <th>8</th>\n",
       "      <td>1720.0</td>\n",
       "      <td>2022-02-12 18:21</td>\n",
       "      <td>Close to Freeway, Ceiling Fan, Breakfast Bar</td>\n",
       "      <td>https://raleigh.craigslist.org/apa/d/raleigh-c...</td>\n",
       "      <td>1910 Capital Creek Drive , Wake Forest, NC</td>\n",
       "      <td>2</td>\n",
       "      <td>1308.0</td>\n",
       "      <td>\\n 2br -\\n 1308ft2 -\\n</td>\n",
       "    </tr>\n",
       "    <tr>\n",
       "      <th>9</th>\n",
       "      <td>750.0</td>\n",
       "      <td>2022-02-12 18:02</td>\n",
       "      <td>Lovely single home for rent</td>\n",
       "      <td>https://raleigh.craigslist.org/apa/d/durham-lo...</td>\n",
       "      <td>505 Bellmeade Bay Dr, Durham, NC</td>\n",
       "      <td>3</td>\n",
       "      <td>1805.0</td>\n",
       "      <td>\\n 3br -\\n 1805ft2 -\\n</td>\n",
       "    </tr>\n",
       "    <tr>\n",
       "      <th>10</th>\n",
       "      <td>1100.0</td>\n",
       "      <td>2022-02-12 17:57</td>\n",
       "      <td>Sweet Bungalow in Country</td>\n",
       "      <td>https://raleigh.craigslist.org/apa/d/zebulon-s...</td>\n",
       "      <td>Zebulon/Youngsville</td>\n",
       "      <td>2</td>\n",
       "      <td>NaN</td>\n",
       "      <td>\\n 2br -\\n</td>\n",
       "    </tr>\n",
       "    <tr>\n",
       "      <th>11</th>\n",
       "      <td>1425.0</td>\n",
       "      <td>2022-02-12 17:57</td>\n",
       "      <td>Secluded Country Home</td>\n",
       "      <td>https://raleigh.craigslist.org/apa/d/zebulon-s...</td>\n",
       "      <td>Zebulon/Youngsville</td>\n",
       "      <td>3</td>\n",
       "      <td>NaN</td>\n",
       "      <td>\\n 3br -\\n</td>\n",
       "    </tr>\n",
       "    <tr>\n",
       "      <th>12</th>\n",
       "      <td>1927.0</td>\n",
       "      <td>2022-02-12 17:48</td>\n",
       "      <td>Handicap Accessible, Professional On-Site Mana...</td>\n",
       "      <td>https://raleigh.craigslist.org/apa/d/wake-fore...</td>\n",
       "      <td>1910 Capital Creek Dr, Wake Forest, NC</td>\n",
       "      <td>3</td>\n",
       "      <td>1486.0</td>\n",
       "      <td>\\n 3br -\\n 1486ft2 -\\n</td>\n",
       "    </tr>\n",
       "    <tr>\n",
       "      <th>13</th>\n",
       "      <td>1225.0</td>\n",
       "      <td>2022-02-12 17:31</td>\n",
       "      <td>Black Appliance Package, Courtesy Patrol Offic...</td>\n",
       "      <td>https://raleigh.craigslist.org/apa/d/chapel-hi...</td>\n",
       "      <td>2701 Homestead Rd, Chapel Hill, NC</td>\n",
       "      <td>1</td>\n",
       "      <td>697.0</td>\n",
       "      <td>\\n 1br -\\n 697ft2 -\\n</td>\n",
       "    </tr>\n",
       "    <tr>\n",
       "      <th>14</th>\n",
       "      <td>700.0</td>\n",
       "      <td>2022-02-12 17:26</td>\n",
       "      <td>Home for Rent in kittrell NC</td>\n",
       "      <td>https://raleigh.craigslist.org/apa/d/kittrell-...</td>\n",
       "      <td>Kittrell</td>\n",
       "      <td>1</td>\n",
       "      <td>1304.0</td>\n",
       "      <td>\\n 1br -\\n 1304ft2 -\\n</td>\n",
       "    </tr>\n",
       "    <tr>\n",
       "      <th>15</th>\n",
       "      <td>1995.0</td>\n",
       "      <td>2022-02-12 17:20</td>\n",
       "      <td>House Downtown Apex</td>\n",
       "      <td>https://raleigh.craigslist.org/apa/d/apex-hous...</td>\n",
       "      <td>403 Lynch St, Apex NC</td>\n",
       "      <td>4</td>\n",
       "      <td>1700.0</td>\n",
       "      <td>\\n 4br -\\n 1700ft2 -\\n</td>\n",
       "    </tr>\n",
       "    <tr>\n",
       "      <th>16</th>\n",
       "      <td>700.0</td>\n",
       "      <td>2022-02-12 17:18</td>\n",
       "      <td>Comfortable Home for Rent in Kittrell NC</td>\n",
       "      <td>https://raleigh.craigslist.org/apa/d/kittrell-...</td>\n",
       "      <td>Kittrell</td>\n",
       "      <td>1</td>\n",
       "      <td>1304.0</td>\n",
       "      <td>\\n 1br -\\n 1304ft2 -\\n</td>\n",
       "    </tr>\n",
       "    <tr>\n",
       "      <th>17</th>\n",
       "      <td>700.0</td>\n",
       "      <td>2022-02-12 17:12</td>\n",
       "      <td>Home for Rent in Kittrell NC</td>\n",
       "      <td>https://raleigh.craigslist.org/apa/d/kittrell-...</td>\n",
       "      <td>Kittrell</td>\n",
       "      <td>1</td>\n",
       "      <td>1304.0</td>\n",
       "      <td>\\n 1br -\\n 1304ft2 -\\n</td>\n",
       "    </tr>\n",
       "    <tr>\n",
       "      <th>18</th>\n",
       "      <td>1696.0</td>\n",
       "      <td>2022-02-12 17:12</td>\n",
       "      <td>Separate Dining Area, Close to Schools, On-Sit...</td>\n",
       "      <td>https://raleigh.craigslist.org/apa/d/raleigh-s...</td>\n",
       "      <td>1910 Capital Creek Drive , Wake Forest, NC</td>\n",
       "      <td>2</td>\n",
       "      <td>1258.0</td>\n",
       "      <td>\\n 2br -\\n 1258ft2 -\\n</td>\n",
       "    </tr>\n",
       "    <tr>\n",
       "      <th>19</th>\n",
       "      <td>1390.0</td>\n",
       "      <td>2022-02-12 17:07</td>\n",
       "      <td>1 Bedroom with Spacious Sunroom &amp; Full Size Wa...</td>\n",
       "      <td>https://raleigh.craigslist.org/apa/d/durham-be...</td>\n",
       "      <td>Durham</td>\n",
       "      <td>1</td>\n",
       "      <td>906.0</td>\n",
       "      <td>\\n 1br -\\n 906ft2 -\\n</td>\n",
       "    </tr>\n",
       "  </tbody>\n",
       "</table>\n",
       "</div>"
      ],
      "text/plain": [
       "    price_usd          datetime  \\\n",
       "0      1319.0  2022-02-12 20:21   \n",
       "1      1410.0  2022-02-12 19:56   \n",
       "2      2008.0  2022-02-12 19:34   \n",
       "3      1300.0  2022-02-12 19:31   \n",
       "4      1599.0  2022-02-12 19:23   \n",
       "5      1662.0  2022-02-12 18:49   \n",
       "6      3200.0  2022-02-12 18:37   \n",
       "7      1360.0  2022-02-12 18:27   \n",
       "8      1720.0  2022-02-12 18:21   \n",
       "9       750.0  2022-02-12 18:02   \n",
       "10     1100.0  2022-02-12 17:57   \n",
       "11     1425.0  2022-02-12 17:57   \n",
       "12     1927.0  2022-02-12 17:48   \n",
       "13     1225.0  2022-02-12 17:31   \n",
       "14      700.0  2022-02-12 17:26   \n",
       "15     1995.0  2022-02-12 17:20   \n",
       "16      700.0  2022-02-12 17:18   \n",
       "17      700.0  2022-02-12 17:12   \n",
       "18     1696.0  2022-02-12 17:12   \n",
       "19     1390.0  2022-02-12 17:07   \n",
       "\n",
       "                                                title  \\\n",
       "0   Spacious Floorplans, Close to Restaurants, BBQ...   \n",
       "1           Pantry, Business Center, Custom Cabinetry   \n",
       "2   Custom Cabinetry, Walk-In Closet, Dual Vanity ...   \n",
       "3   Courtesy Patrol Officer, Black Appliance Packa...   \n",
       "4   Pet Friendly. See Pet Rules., Online Rental Pa...   \n",
       "5    Microwave, Disability Access, On-Site Management   \n",
       "6         Furnished Summer Rental walk to North Hills   \n",
       "7   Online Service Requests, Package Receiving, Cl...   \n",
       "8        Close to Freeway, Ceiling Fan, Breakfast Bar   \n",
       "9                         Lovely single home for rent   \n",
       "10                          Sweet Bungalow in Country   \n",
       "11                              Secluded Country Home   \n",
       "12  Handicap Accessible, Professional On-Site Mana...   \n",
       "13  Black Appliance Package, Courtesy Patrol Offic...   \n",
       "14                       Home for Rent in kittrell NC   \n",
       "15                                House Downtown Apex   \n",
       "16           Comfortable Home for Rent in Kittrell NC   \n",
       "17                       Home for Rent in Kittrell NC   \n",
       "18  Separate Dining Area, Close to Schools, On-Sit...   \n",
       "19  1 Bedroom with Spacious Sunroom & Full Size Wa...   \n",
       "\n",
       "                                                  url  \\\n",
       "0   https://raleigh.craigslist.org/apa/d/raleigh-s...   \n",
       "1   https://raleigh.craigslist.org/apa/d/raleigh-p...   \n",
       "2   https://raleigh.craigslist.org/apa/d/raleigh-c...   \n",
       "3   https://raleigh.craigslist.org/apa/d/chapel-hi...   \n",
       "4   https://raleigh.craigslist.org/apa/d/wake-fore...   \n",
       "5   https://raleigh.craigslist.org/apa/d/raleigh-m...   \n",
       "6   https://raleigh.craigslist.org/apa/d/raleigh-f...   \n",
       "7   https://raleigh.craigslist.org/apa/d/raleigh-o...   \n",
       "8   https://raleigh.craigslist.org/apa/d/raleigh-c...   \n",
       "9   https://raleigh.craigslist.org/apa/d/durham-lo...   \n",
       "10  https://raleigh.craigslist.org/apa/d/zebulon-s...   \n",
       "11  https://raleigh.craigslist.org/apa/d/zebulon-s...   \n",
       "12  https://raleigh.craigslist.org/apa/d/wake-fore...   \n",
       "13  https://raleigh.craigslist.org/apa/d/chapel-hi...   \n",
       "14  https://raleigh.craigslist.org/apa/d/kittrell-...   \n",
       "15  https://raleigh.craigslist.org/apa/d/apex-hous...   \n",
       "16  https://raleigh.craigslist.org/apa/d/kittrell-...   \n",
       "17  https://raleigh.craigslist.org/apa/d/kittrell-...   \n",
       "18  https://raleigh.craigslist.org/apa/d/raleigh-s...   \n",
       "19  https://raleigh.craigslist.org/apa/d/durham-be...   \n",
       "\n",
       "                                  neighborhood  num_bedrooms   sqfts  \\\n",
       "0   1910 Capital Creek Drive , Wake Forest, NC             1   833.0   \n",
       "1   1910 Capital Creek Drive , Wake Forest, NC             1   859.0   \n",
       "2   1910 Capital Creek Drive , Wake Forest, NC             3  1486.0   \n",
       "3           2701 Homestead Rd, Chapel Hill, NC             2   932.0   \n",
       "4       1910 Capital Creek Dr, Wake Forest, NC             1   970.0   \n",
       "5   1910 Capital Creek Drive , Wake Forest, NC             2  1195.0   \n",
       "6                                  North Hills             3  2000.0   \n",
       "7                                                          2  1076.0   \n",
       "8   1910 Capital Creek Drive , Wake Forest, NC             2  1308.0   \n",
       "9             505 Bellmeade Bay Dr, Durham, NC             3  1805.0   \n",
       "10                         Zebulon/Youngsville             2     NaN   \n",
       "11                         Zebulon/Youngsville             3     NaN   \n",
       "12      1910 Capital Creek Dr, Wake Forest, NC             3  1486.0   \n",
       "13          2701 Homestead Rd, Chapel Hill, NC             1   697.0   \n",
       "14                                    Kittrell             1  1304.0   \n",
       "15                       403 Lynch St, Apex NC             4  1700.0   \n",
       "16                                    Kittrell             1  1304.0   \n",
       "17                                    Kittrell             1  1304.0   \n",
       "18  1910 Capital Creek Drive , Wake Forest, NC             2  1258.0   \n",
       "19                                      Durham             1   906.0   \n",
       "\n",
       "             br_ft2_content  \n",
       "0    \\n 1br -\\n 833ft2 -\\n   \n",
       "1    \\n 1br -\\n 859ft2 -\\n   \n",
       "2   \\n 3br -\\n 1486ft2 -\\n   \n",
       "3    \\n 2br -\\n 932ft2 -\\n   \n",
       "4    \\n 1br -\\n 970ft2 -\\n   \n",
       "5   \\n 2br -\\n 1195ft2 -\\n   \n",
       "6   \\n 3br -\\n 2000ft2 -\\n   \n",
       "7   \\n 2br -\\n 1076ft2 -\\n   \n",
       "8   \\n 2br -\\n 1308ft2 -\\n   \n",
       "9   \\n 3br -\\n 1805ft2 -\\n   \n",
       "10              \\n 2br -\\n   \n",
       "11              \\n 3br -\\n   \n",
       "12  \\n 3br -\\n 1486ft2 -\\n   \n",
       "13   \\n 1br -\\n 697ft2 -\\n   \n",
       "14  \\n 1br -\\n 1304ft2 -\\n   \n",
       "15  \\n 4br -\\n 1700ft2 -\\n   \n",
       "16  \\n 1br -\\n 1304ft2 -\\n   \n",
       "17  \\n 1br -\\n 1304ft2 -\\n   \n",
       "18  \\n 2br -\\n 1258ft2 -\\n   \n",
       "19   \\n 1br -\\n 906ft2 -\\n   "
      ]
     },
     "execution_count": 211,
     "metadata": {},
     "output_type": "execute_result"
    }
   ],
   "source": [
    "df = pd.DataFrame()\n",
    "df['price_usd'] = post_prices\n",
    "df['datetime'] = post_timing\n",
    "df['title'] = post_title_texts\n",
    "df['url'] = post_links\n",
    "df['neighborhood'] = post_hoods\n",
    "df['num_bedrooms'] = bedroom_counts\n",
    "df['sqfts'] = sqfts\n",
    "df['br_ft2_content'] = br_ft2_content\n",
    "df.head(20)"
   ]
  },
  {
   "cell_type": "code",
   "execution_count": 118,
   "id": "6adbde1d",
   "metadata": {},
   "outputs": [
    {
     "data": {
      "text/plain": [
       "120"
      ]
     },
     "execution_count": 118,
     "metadata": {},
     "output_type": "execute_result"
    }
   ],
   "source": [
    "len(post_prices)"
   ]
  },
  {
   "cell_type": "code",
   "execution_count": 117,
   "id": "61d74d04",
   "metadata": {},
   "outputs": [
    {
     "data": {
      "text/plain": [
       "120"
      ]
     },
     "execution_count": 117,
     "metadata": {},
     "output_type": "execute_result"
    }
   ],
   "source": [
    "len(post_timing)"
   ]
  },
  {
   "cell_type": "code",
   "execution_count": 116,
   "id": "f6f0e990",
   "metadata": {},
   "outputs": [
    {
     "data": {
      "text/plain": [
       "120"
      ]
     },
     "execution_count": 116,
     "metadata": {},
     "output_type": "execute_result"
    }
   ],
   "source": [
    "len(post_title_texts)"
   ]
  },
  {
   "cell_type": "code",
   "execution_count": 23,
   "id": "fe3df419",
   "metadata": {},
   "outputs": [
    {
     "data": {
      "text/plain": [
       "array([   0,  120,  240,  360,  480,  600,  720,  840,  960, 1080, 1200,\n",
       "       1320, 1440, 1560, 1680, 1800, 1920, 2040, 2160, 2280, 2400, 2520,\n",
       "       2640, 2760, 2880, 3000])"
      ]
     },
     "execution_count": 23,
     "metadata": {},
     "output_type": "execute_result"
    }
   ],
   "source": [
    "pages "
   ]
  },
  {
   "cell_type": "code",
   "execution_count": 10,
   "id": "681c68ce",
   "metadata": {},
   "outputs": [],
   "source": [
    "# https://towardsdatascience.com/data-science-skills-web-scraping-javascript-using-python-97a29738353f\n",
    "\n",
    "# driver = webdriver.Firefox()\n",
    "# driver.get(pageurl)"
   ]
  },
  {
   "cell_type": "code",
   "execution_count": 111,
   "id": "6fdffb1a",
   "metadata": {},
   "outputs": [
    {
     "data": {
      "text/plain": [
       "7"
      ]
     },
     "execution_count": 111,
     "metadata": {},
     "output_type": "execute_result"
    }
   ],
   "source": [
    "randint(1,10)"
   ]
  }
 ],
 "metadata": {
  "kernelspec": {
   "display_name": "Python 3",
   "language": "python",
   "name": "python3"
  },
  "language_info": {
   "codemirror_mode": {
    "name": "ipython",
    "version": 3
   },
   "file_extension": ".py",
   "mimetype": "text/x-python",
   "name": "python",
   "nbconvert_exporter": "python",
   "pygments_lexer": "ipython3",
   "version": "3.9.5"
  }
 },
 "nbformat": 4,
 "nbformat_minor": 5
}
